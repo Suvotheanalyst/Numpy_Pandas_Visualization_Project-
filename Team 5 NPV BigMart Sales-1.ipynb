{
 "cells": [
  {
   "cell_type": "markdown",
   "id": "5dbae19d",
   "metadata": {
    "id": "5dbae19d"
   },
   "source": [
    "# **Big Mart Sales Analysis and Exploration**"
   ]
  },
  {
   "cell_type": "markdown",
   "id": "e5c05ade",
   "metadata": {
    "id": "e5c05ade"
   },
   "source": [
    "## **Problem statement:** \n",
    "#### The Data Analytics at BigMart have acquired sales data over a period from 1985 to 2009 for 1559 products, which have been categorized into 16 product types across 10 stores in various locations. Also, certain attributes of each product and store have been defined.\n",
    "#### The aim is to find out the properties of a product, and the store which impacts the sales and its visibility."
   ]
  },
  {
   "cell_type": "markdown",
   "id": "c3GCo5gio9aS",
   "metadata": {
    "id": "c3GCo5gio9aS"
   },
   "source": [
    "### **Importing Libraries**"
   ]
  },
  {
   "cell_type": "code",
   "execution_count": 1,
   "id": "4e6b71e9",
   "metadata": {
    "id": "4e6b71e9"
   },
   "outputs": [],
   "source": [
    "import pandas as pd\n",
    "import numpy as np\n",
    "import seaborn as sb\n",
    "import matplotlib.pyplot as plt\n",
    "\n",
    "%matplotlib inline"
   ]
  },
  {
   "cell_type": "code",
   "execution_count": 2,
   "id": "934ae09b",
   "metadata": {
    "id": "934ae09b"
   },
   "outputs": [],
   "source": [
    "import warnings\n",
    "warnings.filterwarnings('ignore')"
   ]
  },
  {
   "cell_type": "markdown",
   "id": "4ZkyGp8FpEVf",
   "metadata": {
    "id": "4ZkyGp8FpEVf"
   },
   "source": [
    "### **Importing Data**"
   ]
  },
  {
   "cell_type": "code",
   "execution_count": 3,
   "id": "fc2ef878",
   "metadata": {
    "id": "fc2ef878"
   },
   "outputs": [],
   "source": [
    "data = pd.read_csv('bigmartsales.csv')"
   ]
  },
  {
   "cell_type": "code",
   "execution_count": 4,
   "id": "fb97c96e",
   "metadata": {
    "id": "fb97c96e",
    "outputId": "23c19818-5270-4bf0-a829-940e5b4ca6c6"
   },
   "outputs": [
    {
     "data": {
      "text/html": [
       "<div>\n",
       "<style scoped>\n",
       "    .dataframe tbody tr th:only-of-type {\n",
       "        vertical-align: middle;\n",
       "    }\n",
       "\n",
       "    .dataframe tbody tr th {\n",
       "        vertical-align: top;\n",
       "    }\n",
       "\n",
       "    .dataframe thead th {\n",
       "        text-align: right;\n",
       "    }\n",
       "</style>\n",
       "<table border=\"1\" class=\"dataframe\">\n",
       "  <thead>\n",
       "    <tr style=\"text-align: right;\">\n",
       "      <th></th>\n",
       "      <th>Item_Identifier</th>\n",
       "      <th>Item_Weight</th>\n",
       "      <th>Item_Fat_Content</th>\n",
       "      <th>Item_Visibility</th>\n",
       "      <th>Item_Type</th>\n",
       "      <th>Item_MRP</th>\n",
       "      <th>Outlet_Identifier</th>\n",
       "      <th>Outlet_Establishment_Year</th>\n",
       "      <th>Outlet_Size</th>\n",
       "      <th>Outlet_Location_Type</th>\n",
       "      <th>Outlet_Type</th>\n",
       "      <th>Item_Outlet_Sales</th>\n",
       "      <th>Profit</th>\n",
       "    </tr>\n",
       "  </thead>\n",
       "  <tbody>\n",
       "    <tr>\n",
       "      <th>0</th>\n",
       "      <td>FDA15</td>\n",
       "      <td>9.300</td>\n",
       "      <td>Low Fat</td>\n",
       "      <td>0.016047</td>\n",
       "      <td>Dairy</td>\n",
       "      <td>249.8</td>\n",
       "      <td>OUT049</td>\n",
       "      <td>1999</td>\n",
       "      <td>Medium</td>\n",
       "      <td>Tier 2</td>\n",
       "      <td>Supermarket Type1</td>\n",
       "      <td>3735.1380</td>\n",
       "      <td>11.5</td>\n",
       "    </tr>\n",
       "    <tr>\n",
       "      <th>1</th>\n",
       "      <td>DRC01</td>\n",
       "      <td>5.920</td>\n",
       "      <td>Regular</td>\n",
       "      <td>0.019278</td>\n",
       "      <td>Soft Drinks</td>\n",
       "      <td>48.3</td>\n",
       "      <td>OUT018</td>\n",
       "      <td>2009</td>\n",
       "      <td>Medium</td>\n",
       "      <td>Tier 2</td>\n",
       "      <td>Supermarket Type2</td>\n",
       "      <td>443.4228</td>\n",
       "      <td>14.3</td>\n",
       "    </tr>\n",
       "    <tr>\n",
       "      <th>2</th>\n",
       "      <td>FDN15</td>\n",
       "      <td>17.500</td>\n",
       "      <td>Low Fat</td>\n",
       "      <td>0.016760</td>\n",
       "      <td>Meat</td>\n",
       "      <td>141.6</td>\n",
       "      <td>OUT049</td>\n",
       "      <td>1999</td>\n",
       "      <td>Medium</td>\n",
       "      <td>Tier 2</td>\n",
       "      <td>Supermarket Type1</td>\n",
       "      <td>2097.2700</td>\n",
       "      <td>14.5</td>\n",
       "    </tr>\n",
       "    <tr>\n",
       "      <th>3</th>\n",
       "      <td>FDX07</td>\n",
       "      <td>19.200</td>\n",
       "      <td>Regular</td>\n",
       "      <td>0.000000</td>\n",
       "      <td>Fruits and Vegetables</td>\n",
       "      <td>182.1</td>\n",
       "      <td>OUT010</td>\n",
       "      <td>1998</td>\n",
       "      <td>NaN</td>\n",
       "      <td>NaN</td>\n",
       "      <td>Grocery Store</td>\n",
       "      <td>732.3800</td>\n",
       "      <td>13.6</td>\n",
       "    </tr>\n",
       "    <tr>\n",
       "      <th>4</th>\n",
       "      <td>NCD19</td>\n",
       "      <td>8.930</td>\n",
       "      <td>Low Fat</td>\n",
       "      <td>0.000000</td>\n",
       "      <td>Household</td>\n",
       "      <td>53.9</td>\n",
       "      <td>OUT013</td>\n",
       "      <td>1987</td>\n",
       "      <td>High</td>\n",
       "      <td>Tier 3</td>\n",
       "      <td>Supermarket Type1</td>\n",
       "      <td>994.7052</td>\n",
       "      <td>14.1</td>\n",
       "    </tr>\n",
       "    <tr>\n",
       "      <th>5</th>\n",
       "      <td>FDP36</td>\n",
       "      <td>10.395</td>\n",
       "      <td>Regular</td>\n",
       "      <td>0.000000</td>\n",
       "      <td>Baking Goods</td>\n",
       "      <td>51.4</td>\n",
       "      <td>OUT018</td>\n",
       "      <td>2009</td>\n",
       "      <td>Medium</td>\n",
       "      <td>Tier 2</td>\n",
       "      <td>Supermarket Type2</td>\n",
       "      <td>556.6088</td>\n",
       "      <td>9.5</td>\n",
       "    </tr>\n",
       "    <tr>\n",
       "      <th>6</th>\n",
       "      <td>FDO10</td>\n",
       "      <td>13.650</td>\n",
       "      <td>Regular</td>\n",
       "      <td>0.012741</td>\n",
       "      <td>Snack Foods</td>\n",
       "      <td>57.7</td>\n",
       "      <td>OUT013</td>\n",
       "      <td>1987</td>\n",
       "      <td>High</td>\n",
       "      <td>Tier 3</td>\n",
       "      <td>Supermarket Type1</td>\n",
       "      <td>343.5528</td>\n",
       "      <td>8.8</td>\n",
       "    </tr>\n",
       "    <tr>\n",
       "      <th>7</th>\n",
       "      <td>FDP10</td>\n",
       "      <td>NaN</td>\n",
       "      <td>Low Fat</td>\n",
       "      <td>0.127470</td>\n",
       "      <td>Snack Foods</td>\n",
       "      <td>107.8</td>\n",
       "      <td>OUT027</td>\n",
       "      <td>1985</td>\n",
       "      <td>Medium</td>\n",
       "      <td>Tier 2</td>\n",
       "      <td>Supermarket Type3</td>\n",
       "      <td>4022.7636</td>\n",
       "      <td>13.3</td>\n",
       "    </tr>\n",
       "    <tr>\n",
       "      <th>8</th>\n",
       "      <td>FDH17</td>\n",
       "      <td>16.200</td>\n",
       "      <td>Regular</td>\n",
       "      <td>0.016687</td>\n",
       "      <td>Frozen Foods</td>\n",
       "      <td>97.0</td>\n",
       "      <td>OUT045</td>\n",
       "      <td>2002</td>\n",
       "      <td>NaN</td>\n",
       "      <td>NaN</td>\n",
       "      <td>Supermarket Type1</td>\n",
       "      <td>1076.5986</td>\n",
       "      <td>13.0</td>\n",
       "    </tr>\n",
       "    <tr>\n",
       "      <th>9</th>\n",
       "      <td>FDU28</td>\n",
       "      <td>19.200</td>\n",
       "      <td>Regular</td>\n",
       "      <td>0.094450</td>\n",
       "      <td>Frozen Foods</td>\n",
       "      <td>187.8</td>\n",
       "      <td>OUT017</td>\n",
       "      <td>2007</td>\n",
       "      <td>NaN</td>\n",
       "      <td>--</td>\n",
       "      <td>Supermarket Type1</td>\n",
       "      <td>4710.5350</td>\n",
       "      <td>13.6</td>\n",
       "    </tr>\n",
       "  </tbody>\n",
       "</table>\n",
       "</div>"
      ],
      "text/plain": [
       "  Item_Identifier  Item_Weight Item_Fat_Content  Item_Visibility  \\\n",
       "0           FDA15        9.300          Low Fat         0.016047   \n",
       "1           DRC01        5.920          Regular         0.019278   \n",
       "2           FDN15       17.500          Low Fat         0.016760   \n",
       "3           FDX07       19.200          Regular         0.000000   \n",
       "4           NCD19        8.930          Low Fat         0.000000   \n",
       "5           FDP36       10.395          Regular         0.000000   \n",
       "6           FDO10       13.650          Regular         0.012741   \n",
       "7           FDP10          NaN          Low Fat         0.127470   \n",
       "8           FDH17       16.200          Regular         0.016687   \n",
       "9           FDU28       19.200          Regular         0.094450   \n",
       "\n",
       "               Item_Type  Item_MRP Outlet_Identifier  \\\n",
       "0                  Dairy     249.8            OUT049   \n",
       "1            Soft Drinks      48.3            OUT018   \n",
       "2                   Meat     141.6            OUT049   \n",
       "3  Fruits and Vegetables     182.1            OUT010   \n",
       "4              Household      53.9            OUT013   \n",
       "5           Baking Goods      51.4            OUT018   \n",
       "6            Snack Foods      57.7            OUT013   \n",
       "7            Snack Foods     107.8            OUT027   \n",
       "8           Frozen Foods      97.0            OUT045   \n",
       "9           Frozen Foods     187.8            OUT017   \n",
       "\n",
       "   Outlet_Establishment_Year Outlet_Size Outlet_Location_Type  \\\n",
       "0                       1999      Medium               Tier 2   \n",
       "1                       2009      Medium               Tier 2   \n",
       "2                       1999      Medium               Tier 2   \n",
       "3                       1998         NaN                  NaN   \n",
       "4                       1987        High               Tier 3   \n",
       "5                       2009      Medium               Tier 2   \n",
       "6                       1987        High               Tier 3   \n",
       "7                       1985      Medium               Tier 2   \n",
       "8                       2002         NaN                  NaN   \n",
       "9                       2007         NaN                   --   \n",
       "\n",
       "         Outlet_Type  Item_Outlet_Sales  Profit  \n",
       "0  Supermarket Type1          3735.1380    11.5  \n",
       "1  Supermarket Type2           443.4228    14.3  \n",
       "2  Supermarket Type1          2097.2700    14.5  \n",
       "3      Grocery Store           732.3800    13.6  \n",
       "4  Supermarket Type1           994.7052    14.1  \n",
       "5  Supermarket Type2           556.6088     9.5  \n",
       "6  Supermarket Type1           343.5528     8.8  \n",
       "7  Supermarket Type3          4022.7636    13.3  \n",
       "8  Supermarket Type1          1076.5986    13.0  \n",
       "9  Supermarket Type1          4710.5350    13.6  "
      ]
     },
     "execution_count": 4,
     "metadata": {},
     "output_type": "execute_result"
    }
   ],
   "source": [
    "data.head(10)"
   ]
  },
  {
   "cell_type": "code",
   "execution_count": 5,
   "id": "d843c415",
   "metadata": {
    "id": "d843c415",
    "outputId": "4dd2b6e7-3ea6-4826-9627-179d75a00a88"
   },
   "outputs": [
    {
     "data": {
      "text/html": [
       "<div>\n",
       "<style scoped>\n",
       "    .dataframe tbody tr th:only-of-type {\n",
       "        vertical-align: middle;\n",
       "    }\n",
       "\n",
       "    .dataframe tbody tr th {\n",
       "        vertical-align: top;\n",
       "    }\n",
       "\n",
       "    .dataframe thead th {\n",
       "        text-align: right;\n",
       "    }\n",
       "</style>\n",
       "<table border=\"1\" class=\"dataframe\">\n",
       "  <thead>\n",
       "    <tr style=\"text-align: right;\">\n",
       "      <th></th>\n",
       "      <th>Item_Identifier</th>\n",
       "      <th>Item_Weight</th>\n",
       "      <th>Item_Fat_Content</th>\n",
       "      <th>Item_Visibility</th>\n",
       "      <th>Item_Type</th>\n",
       "      <th>Item_MRP</th>\n",
       "      <th>Outlet_Identifier</th>\n",
       "      <th>Outlet_Establishment_Year</th>\n",
       "      <th>Outlet_Size</th>\n",
       "      <th>Outlet_Location_Type</th>\n",
       "      <th>Outlet_Type</th>\n",
       "      <th>Item_Outlet_Sales</th>\n",
       "      <th>Profit</th>\n",
       "    </tr>\n",
       "  </thead>\n",
       "  <tbody>\n",
       "    <tr>\n",
       "      <th>8513</th>\n",
       "      <td>FDH31</td>\n",
       "      <td>12.000</td>\n",
       "      <td>Regular</td>\n",
       "      <td>0.020407</td>\n",
       "      <td>Meat</td>\n",
       "      <td>99.9</td>\n",
       "      <td>OUT035</td>\n",
       "      <td>2004</td>\n",
       "      <td>Small</td>\n",
       "      <td>Tier1</td>\n",
       "      <td>Supermarket Type1</td>\n",
       "      <td>595.2252</td>\n",
       "      <td>13.5</td>\n",
       "    </tr>\n",
       "    <tr>\n",
       "      <th>8514</th>\n",
       "      <td>FDA01</td>\n",
       "      <td>15.000</td>\n",
       "      <td>Regular</td>\n",
       "      <td>0.054489</td>\n",
       "      <td>Canned</td>\n",
       "      <td>57.6</td>\n",
       "      <td>OUT045</td>\n",
       "      <td>2002</td>\n",
       "      <td>NaN</td>\n",
       "      <td>NaN</td>\n",
       "      <td>Supermarket Type1</td>\n",
       "      <td>468.7232</td>\n",
       "      <td>14.0</td>\n",
       "    </tr>\n",
       "    <tr>\n",
       "      <th>8515</th>\n",
       "      <td>FDH24</td>\n",
       "      <td>20.700</td>\n",
       "      <td>Low Fat</td>\n",
       "      <td>0.021518</td>\n",
       "      <td>Baking Goods</td>\n",
       "      <td>157.5</td>\n",
       "      <td>OUT018</td>\n",
       "      <td>2009</td>\n",
       "      <td>Medium</td>\n",
       "      <td>Tier 2</td>\n",
       "      <td>Supermarket Type2</td>\n",
       "      <td>1571.2880</td>\n",
       "      <td>14.2</td>\n",
       "    </tr>\n",
       "    <tr>\n",
       "      <th>8516</th>\n",
       "      <td>NCJ19</td>\n",
       "      <td>18.600</td>\n",
       "      <td>Low Fat</td>\n",
       "      <td>0.118661</td>\n",
       "      <td>Others</td>\n",
       "      <td>58.8</td>\n",
       "      <td>OUT018</td>\n",
       "      <td>2009</td>\n",
       "      <td>Medium</td>\n",
       "      <td>Tier 2</td>\n",
       "      <td>Supermarket Type2</td>\n",
       "      <td>858.8820</td>\n",
       "      <td>14.6</td>\n",
       "    </tr>\n",
       "    <tr>\n",
       "      <th>8517</th>\n",
       "      <td>FDF53</td>\n",
       "      <td>20.750</td>\n",
       "      <td>reg</td>\n",
       "      <td>0.083607</td>\n",
       "      <td>Frozen Foods</td>\n",
       "      <td>178.8</td>\n",
       "      <td>OUT046</td>\n",
       "      <td>1997</td>\n",
       "      <td>Small</td>\n",
       "      <td>Tier1</td>\n",
       "      <td>Supermarket Type1</td>\n",
       "      <td>3608.6360</td>\n",
       "      <td>13.2</td>\n",
       "    </tr>\n",
       "    <tr>\n",
       "      <th>8518</th>\n",
       "      <td>FDF22</td>\n",
       "      <td>6.865</td>\n",
       "      <td>Low Fat</td>\n",
       "      <td>0.056783</td>\n",
       "      <td>Snack Foods</td>\n",
       "      <td>214.5</td>\n",
       "      <td>OUT013</td>\n",
       "      <td>1987</td>\n",
       "      <td>High</td>\n",
       "      <td>Tier 3</td>\n",
       "      <td>Supermarket Type1</td>\n",
       "      <td>2778.3834</td>\n",
       "      <td>14.1</td>\n",
       "    </tr>\n",
       "    <tr>\n",
       "      <th>8519</th>\n",
       "      <td>FDS36</td>\n",
       "      <td>8.380</td>\n",
       "      <td>Regular</td>\n",
       "      <td>0.046982</td>\n",
       "      <td>Baking Goods</td>\n",
       "      <td>108.2</td>\n",
       "      <td>OUT045</td>\n",
       "      <td>2002</td>\n",
       "      <td>NaN</td>\n",
       "      <td>NaN</td>\n",
       "      <td>Supermarket Type1</td>\n",
       "      <td>549.2850</td>\n",
       "      <td>14.2</td>\n",
       "    </tr>\n",
       "    <tr>\n",
       "      <th>8520</th>\n",
       "      <td>NCJ29</td>\n",
       "      <td>10.600</td>\n",
       "      <td>Low Fat</td>\n",
       "      <td>0.035186</td>\n",
       "      <td>Health and Hygiene</td>\n",
       "      <td>85.1</td>\n",
       "      <td>OUT035</td>\n",
       "      <td>2004</td>\n",
       "      <td>Small</td>\n",
       "      <td>Tier1</td>\n",
       "      <td>Supermarket Type1</td>\n",
       "      <td>1193.1136</td>\n",
       "      <td>9.5</td>\n",
       "    </tr>\n",
       "    <tr>\n",
       "      <th>8521</th>\n",
       "      <td>FDN46</td>\n",
       "      <td>7.210</td>\n",
       "      <td>Regular</td>\n",
       "      <td>0.145221</td>\n",
       "      <td>Snack Foods</td>\n",
       "      <td>103.1</td>\n",
       "      <td>OUT018</td>\n",
       "      <td>2009</td>\n",
       "      <td>Medium</td>\n",
       "      <td>Tier 2</td>\n",
       "      <td>Supermarket Type2</td>\n",
       "      <td>1845.5976</td>\n",
       "      <td>14.2</td>\n",
       "    </tr>\n",
       "    <tr>\n",
       "      <th>8522</th>\n",
       "      <td>DRG01</td>\n",
       "      <td>14.800</td>\n",
       "      <td>Low Fat</td>\n",
       "      <td>0.044878</td>\n",
       "      <td>Soft Drinks</td>\n",
       "      <td>75.5</td>\n",
       "      <td>OUT046</td>\n",
       "      <td>1997</td>\n",
       "      <td>Small</td>\n",
       "      <td>Tier1</td>\n",
       "      <td>Supermarket Type1</td>\n",
       "      <td>765.6700</td>\n",
       "      <td>14.6</td>\n",
       "    </tr>\n",
       "  </tbody>\n",
       "</table>\n",
       "</div>"
      ],
      "text/plain": [
       "     Item_Identifier  Item_Weight Item_Fat_Content  Item_Visibility  \\\n",
       "8513           FDH31       12.000          Regular         0.020407   \n",
       "8514           FDA01       15.000          Regular         0.054489   \n",
       "8515           FDH24       20.700          Low Fat         0.021518   \n",
       "8516           NCJ19       18.600          Low Fat         0.118661   \n",
       "8517           FDF53       20.750              reg         0.083607   \n",
       "8518           FDF22        6.865          Low Fat         0.056783   \n",
       "8519           FDS36        8.380          Regular         0.046982   \n",
       "8520           NCJ29       10.600          Low Fat         0.035186   \n",
       "8521           FDN46        7.210          Regular         0.145221   \n",
       "8522           DRG01       14.800          Low Fat         0.044878   \n",
       "\n",
       "               Item_Type  Item_MRP Outlet_Identifier  \\\n",
       "8513                Meat      99.9            OUT035   \n",
       "8514              Canned      57.6            OUT045   \n",
       "8515        Baking Goods     157.5            OUT018   \n",
       "8516              Others      58.8            OUT018   \n",
       "8517        Frozen Foods     178.8            OUT046   \n",
       "8518         Snack Foods     214.5            OUT013   \n",
       "8519        Baking Goods     108.2            OUT045   \n",
       "8520  Health and Hygiene      85.1            OUT035   \n",
       "8521         Snack Foods     103.1            OUT018   \n",
       "8522         Soft Drinks      75.5            OUT046   \n",
       "\n",
       "      Outlet_Establishment_Year Outlet_Size Outlet_Location_Type  \\\n",
       "8513                       2004       Small                Tier1   \n",
       "8514                       2002         NaN                  NaN   \n",
       "8515                       2009      Medium               Tier 2   \n",
       "8516                       2009      Medium               Tier 2   \n",
       "8517                       1997       Small                Tier1   \n",
       "8518                       1987        High               Tier 3   \n",
       "8519                       2002         NaN                  NaN   \n",
       "8520                       2004       Small                Tier1   \n",
       "8521                       2009      Medium               Tier 2   \n",
       "8522                       1997       Small                Tier1   \n",
       "\n",
       "            Outlet_Type  Item_Outlet_Sales  Profit  \n",
       "8513  Supermarket Type1           595.2252    13.5  \n",
       "8514  Supermarket Type1           468.7232    14.0  \n",
       "8515  Supermarket Type2          1571.2880    14.2  \n",
       "8516  Supermarket Type2           858.8820    14.6  \n",
       "8517  Supermarket Type1          3608.6360    13.2  \n",
       "8518  Supermarket Type1          2778.3834    14.1  \n",
       "8519  Supermarket Type1           549.2850    14.2  \n",
       "8520  Supermarket Type1          1193.1136     9.5  \n",
       "8521  Supermarket Type2          1845.5976    14.2  \n",
       "8522  Supermarket Type1           765.6700    14.6  "
      ]
     },
     "execution_count": 5,
     "metadata": {},
     "output_type": "execute_result"
    }
   ],
   "source": [
    "data.tail(10)"
   ]
  },
  {
   "cell_type": "markdown",
   "id": "5cfca960",
   "metadata": {
    "id": "5cfca960"
   },
   "source": [
    "### **Preprocessing Data**"
   ]
  },
  {
   "cell_type": "code",
   "execution_count": 6,
   "id": "73bfe964",
   "metadata": {
    "id": "73bfe964",
    "outputId": "7ecd1e2f-7276-4a5d-fe36-b74301f874c7"
   },
   "outputs": [
    {
     "data": {
      "text/plain": [
       "Item_Identifier               object\n",
       "Item_Weight                  float64\n",
       "Item_Fat_Content              object\n",
       "Item_Visibility              float64\n",
       "Item_Type                     object\n",
       "Item_MRP                     float64\n",
       "Outlet_Identifier             object\n",
       "Outlet_Establishment_Year      int64\n",
       "Outlet_Size                   object\n",
       "Outlet_Location_Type          object\n",
       "Outlet_Type                   object\n",
       "Item_Outlet_Sales            float64\n",
       "Profit                       float64\n",
       "dtype: object"
      ]
     },
     "execution_count": 6,
     "metadata": {},
     "output_type": "execute_result"
    }
   ],
   "source": [
    "data.dtypes"
   ]
  },
  {
   "cell_type": "code",
   "execution_count": 7,
   "id": "5bd804d1",
   "metadata": {
    "id": "5bd804d1",
    "outputId": "dc490b9a-88de-459e-8163-f289fb0ac864"
   },
   "outputs": [
    {
     "data": {
      "text/plain": [
       "(8523, 13)"
      ]
     },
     "execution_count": 7,
     "metadata": {},
     "output_type": "execute_result"
    }
   ],
   "source": [
    "data.shape"
   ]
  },
  {
   "cell_type": "code",
   "execution_count": 8,
   "id": "9ce99448",
   "metadata": {
    "colab": {
     "base_uri": "https://localhost:8080/",
     "height": 297
    },
    "id": "9ce99448",
    "outputId": "d8b73e9d-fd1d-4ed5-8a6d-d6d4c8f296fb"
   },
   "outputs": [
    {
     "data": {
      "text/html": [
       "<div>\n",
       "<style scoped>\n",
       "    .dataframe tbody tr th:only-of-type {\n",
       "        vertical-align: middle;\n",
       "    }\n",
       "\n",
       "    .dataframe tbody tr th {\n",
       "        vertical-align: top;\n",
       "    }\n",
       "\n",
       "    .dataframe thead th {\n",
       "        text-align: right;\n",
       "    }\n",
       "</style>\n",
       "<table border=\"1\" class=\"dataframe\">\n",
       "  <thead>\n",
       "    <tr style=\"text-align: right;\">\n",
       "      <th></th>\n",
       "      <th>Item_Weight</th>\n",
       "      <th>Item_Visibility</th>\n",
       "      <th>Item_MRP</th>\n",
       "      <th>Outlet_Establishment_Year</th>\n",
       "      <th>Item_Outlet_Sales</th>\n",
       "      <th>Profit</th>\n",
       "    </tr>\n",
       "  </thead>\n",
       "  <tbody>\n",
       "    <tr>\n",
       "      <th>count</th>\n",
       "      <td>7774.000000</td>\n",
       "      <td>8523.000000</td>\n",
       "      <td>8523.000000</td>\n",
       "      <td>8523.000000</td>\n",
       "      <td>8523.000000</td>\n",
       "      <td>8523.000000</td>\n",
       "    </tr>\n",
       "    <tr>\n",
       "      <th>mean</th>\n",
       "      <td>11.676740</td>\n",
       "      <td>0.066132</td>\n",
       "      <td>140.998838</td>\n",
       "      <td>1997.831867</td>\n",
       "      <td>2181.288914</td>\n",
       "      <td>13.414514</td>\n",
       "    </tr>\n",
       "    <tr>\n",
       "      <th>std</th>\n",
       "      <td>5.776851</td>\n",
       "      <td>0.051598</td>\n",
       "      <td>62.258099</td>\n",
       "      <td>8.371760</td>\n",
       "      <td>1706.499616</td>\n",
       "      <td>1.701840</td>\n",
       "    </tr>\n",
       "    <tr>\n",
       "      <th>min</th>\n",
       "      <td>0.000000</td>\n",
       "      <td>0.000000</td>\n",
       "      <td>31.300000</td>\n",
       "      <td>1985.000000</td>\n",
       "      <td>33.290000</td>\n",
       "      <td>0.100000</td>\n",
       "    </tr>\n",
       "    <tr>\n",
       "      <th>25%</th>\n",
       "      <td>7.720000</td>\n",
       "      <td>0.026989</td>\n",
       "      <td>93.800000</td>\n",
       "      <td>1987.000000</td>\n",
       "      <td>834.247400</td>\n",
       "      <td>13.150000</td>\n",
       "    </tr>\n",
       "    <tr>\n",
       "      <th>50%</th>\n",
       "      <td>11.800000</td>\n",
       "      <td>0.053931</td>\n",
       "      <td>142.700000</td>\n",
       "      <td>1999.000000</td>\n",
       "      <td>1794.331000</td>\n",
       "      <td>13.900000</td>\n",
       "    </tr>\n",
       "    <tr>\n",
       "      <th>75%</th>\n",
       "      <td>16.500000</td>\n",
       "      <td>0.094585</td>\n",
       "      <td>185.650000</td>\n",
       "      <td>2004.000000</td>\n",
       "      <td>3101.296400</td>\n",
       "      <td>14.300000</td>\n",
       "    </tr>\n",
       "    <tr>\n",
       "      <th>max</th>\n",
       "      <td>21.350000</td>\n",
       "      <td>0.328391</td>\n",
       "      <td>266.900000</td>\n",
       "      <td>2009.000000</td>\n",
       "      <td>13086.964800</td>\n",
       "      <td>24.000000</td>\n",
       "    </tr>\n",
       "  </tbody>\n",
       "</table>\n",
       "</div>"
      ],
      "text/plain": [
       "       Item_Weight  Item_Visibility     Item_MRP  Outlet_Establishment_Year  \\\n",
       "count  7774.000000      8523.000000  8523.000000                8523.000000   \n",
       "mean     11.676740         0.066132   140.998838                1997.831867   \n",
       "std       5.776851         0.051598    62.258099                   8.371760   \n",
       "min       0.000000         0.000000    31.300000                1985.000000   \n",
       "25%       7.720000         0.026989    93.800000                1987.000000   \n",
       "50%      11.800000         0.053931   142.700000                1999.000000   \n",
       "75%      16.500000         0.094585   185.650000                2004.000000   \n",
       "max      21.350000         0.328391   266.900000                2009.000000   \n",
       "\n",
       "       Item_Outlet_Sales       Profit  \n",
       "count        8523.000000  8523.000000  \n",
       "mean         2181.288914    13.414514  \n",
       "std          1706.499616     1.701840  \n",
       "min            33.290000     0.100000  \n",
       "25%           834.247400    13.150000  \n",
       "50%          1794.331000    13.900000  \n",
       "75%          3101.296400    14.300000  \n",
       "max         13086.964800    24.000000  "
      ]
     },
     "execution_count": 8,
     "metadata": {},
     "output_type": "execute_result"
    }
   ],
   "source": [
    "#statistical info\n",
    "data.describe()"
   ]
  },
  {
   "cell_type": "code",
   "execution_count": 9,
   "id": "c68315c0",
   "metadata": {
    "colab": {
     "base_uri": "https://localhost:8080/"
    },
    "id": "c68315c0",
    "outputId": "5d6dffcc-e7a9-476a-c594-23cb5eb48db3",
    "scrolled": true
   },
   "outputs": [
    {
     "data": {
      "text/plain": [
       "Item_Identifier                 0\n",
       "Item_Weight                   749\n",
       "Item_Fat_Content                0\n",
       "Item_Visibility                 0\n",
       "Item_Type                       0\n",
       "Item_MRP                        0\n",
       "Outlet_Identifier               0\n",
       "Outlet_Establishment_Year       0\n",
       "Outlet_Size                  2410\n",
       "Outlet_Location_Type         2050\n",
       "Outlet_Type                     0\n",
       "Item_Outlet_Sales               0\n",
       "Profit                          0\n",
       "dtype: int64"
      ]
     },
     "execution_count": 9,
     "metadata": {},
     "output_type": "execute_result"
    }
   ],
   "source": [
    "# check for null values\n",
    "data.isnull().sum()\n",
    "#data.apply(lambda x: sum(x.isnull())) ## alternate"
   ]
  },
  {
   "cell_type": "markdown",
   "id": "50f8a5a0",
   "metadata": {
    "id": "50f8a5a0"
   },
   "source": [
    "#### **Observations:**\n",
    "\n",
    "1. **Item_Visibility** has a min value of zero. This makes no practical sense because when a product is being sold in a store, the visibility cannot be 0.\n",
    "\n",
    "2. **Outlet_Establishment_Years** vary from 1985 to 2009.\n",
    "\n",
    "3. The lower ‘count’ of **Item_Weight**, **Outlet_Size** and **Outlet_Location_Type** confirms the findings from the missing value check."
   ]
  },
  {
   "cell_type": "code",
   "execution_count": 10,
   "id": "395ee35c",
   "metadata": {
    "colab": {
     "base_uri": "https://localhost:8080/"
    },
    "id": "395ee35c",
    "outputId": "c87c4e38-61a4-4614-f87a-1572f504ca63"
   },
   "outputs": [
    {
     "name": "stdout",
     "output_type": "stream",
     "text": [
      "<class 'pandas.core.frame.DataFrame'>\n",
      "RangeIndex: 8523 entries, 0 to 8522\n",
      "Data columns (total 13 columns):\n",
      " #   Column                     Non-Null Count  Dtype  \n",
      "---  ------                     --------------  -----  \n",
      " 0   Item_Identifier            8523 non-null   object \n",
      " 1   Item_Weight                7774 non-null   float64\n",
      " 2   Item_Fat_Content           8523 non-null   object \n",
      " 3   Item_Visibility            8523 non-null   float64\n",
      " 4   Item_Type                  8523 non-null   object \n",
      " 5   Item_MRP                   8523 non-null   float64\n",
      " 6   Outlet_Identifier          8523 non-null   object \n",
      " 7   Outlet_Establishment_Year  8523 non-null   int64  \n",
      " 8   Outlet_Size                6113 non-null   object \n",
      " 9   Outlet_Location_Type       6473 non-null   object \n",
      " 10  Outlet_Type                8523 non-null   object \n",
      " 11  Item_Outlet_Sales          8523 non-null   float64\n",
      " 12  Profit                     8523 non-null   float64\n",
      "dtypes: float64(5), int64(1), object(7)\n",
      "memory usage: 632.6+ KB\n"
     ]
    }
   ],
   "source": [
    "#datatype of attributes\n",
    "data.info() "
   ]
  },
  {
   "cell_type": "code",
   "execution_count": 11,
   "id": "70ffb991",
   "metadata": {
    "id": "70ffb991",
    "outputId": "ad10d2c9-0e16-4f3c-ebdc-8f2d5d665e3d"
   },
   "outputs": [
    {
     "data": {
      "text/plain": [
       "Item_Weight    841\n",
       "dtype: int64"
      ]
     },
     "execution_count": 11,
     "metadata": {},
     "output_type": "execute_result"
    }
   ],
   "source": [
    "#check for unique values in the data set\n",
    "dataitem_avg_weight = data.pivot_table(values='Item_Weight', index='Item_Identifier').apply(lambda x: len(x.unique()))\n",
    "dataitem_avg_weight"
   ]
  },
  {
   "cell_type": "markdown",
   "id": "0a0b6ddc",
   "metadata": {
    "id": "0a0b6ddc"
   },
   "source": [
    "#### **Observations:**\n",
    "\n",
    "1. There are **1559 products** - This is too many to be useful, we need to see how we can categorise them into a smaller number of groups\n",
    "2. There are **10 stores**.\n",
    "3. Since the Item_MRP is bigger than the number of products, this could mean that in different stores, the MRP could be different.\n",
    "4. There are only **16 Item_Type**."
   ]
  },
  {
   "cell_type": "code",
   "execution_count": 12,
   "id": "5948b1e6",
   "metadata": {
    "colab": {
     "base_uri": "https://localhost:8080/"
    },
    "id": "5948b1e6",
    "outputId": "5d2610f8-a15e-4771-e156-4830dc99e276"
   },
   "outputs": [
    {
     "data": {
      "text/plain": [
       "['Item_Fat_Content',\n",
       " 'Item_Type',\n",
       " 'Outlet_Size',\n",
       " 'Outlet_Location_Type',\n",
       " 'Outlet_Type']"
      ]
     },
     "execution_count": 12,
     "metadata": {},
     "output_type": "execute_result"
    }
   ],
   "source": [
    "# Check for categorical attributes\n",
    "categorical_cols = [x for x in data.dtypes.index if (data.dtypes[x] == 'object')]\n",
    "categorical_cols.remove('Item_Identifier')\n",
    "categorical_cols.remove('Outlet_Identifier')\n",
    "categorical_cols"
   ]
  },
  {
   "cell_type": "markdown",
   "id": "e3fa21ef",
   "metadata": {
    "id": "e3fa21ef"
   },
   "source": [
    "### **Columns in the data set**"
   ]
  },
  {
   "cell_type": "markdown",
   "id": "8adf4391",
   "metadata": {
    "id": "8adf4391"
   },
   "source": [
    "<b>Item_Identifier :</b> Unique product ID\n",
    "\n",
    "<b>Item_Weight:</b>  Weight of product\n",
    "\n",
    "<b>Item_Fat_Content :</b> Whether the product is low fat or not\n",
    "\n",
    "<b>Item_Visibility :</b> The % of total display area of all products in a store allocated to the particular product\n",
    "\n",
    "<b>Item_Type :</b> The category to which the product belongs\n",
    "\n",
    "<b>Item_MRP :</b> Maximum Retail Price (list price) of the product\n",
    "\n",
    "<b>Outlet_Identifier :</b> Unique store ID\n",
    "\n",
    "<b>Outlet_Establishment_Year :</b> The year in which store was established\n",
    "\n",
    "<b>Outlet_Size :</b> The size of the store in terms of ground area covered\n",
    "\n",
    "<b>Outlet_Location_Type :</b> The type of city in which the store is located\n",
    "\n",
    "<b>Outlet_Type :</b> Whether the outlet is just a grocery store or some sort of supermarket\n",
    "\n",
    "<b>Item_Outlet_Sales :</b> Sales of the product in the particular store."
   ]
  },
  {
   "cell_type": "code",
   "execution_count": 13,
   "id": "a8f77c21",
   "metadata": {
    "colab": {
     "base_uri": "https://localhost:8080/"
    },
    "id": "a8f77c21",
    "outputId": "b2be7427-0296-4cf3-b0aa-204c631ff8d3"
   },
   "outputs": [
    {
     "name": "stdout",
     "output_type": "stream",
     "text": [
      "\n",
      "Freqfuency of Categories for variable Item_Fat_Content\n",
      "Low Fat    5089\n",
      "Regular    2889\n",
      "LF          316\n",
      "reg         117\n",
      "low fat     112\n",
      "Name: Item_Fat_Content, dtype: int64\n",
      "\n",
      "Freqfuency of Categories for variable Item_Type\n",
      "Fruits and Vegetables    1232\n",
      "Snack Foods              1200\n",
      "Household                 910\n",
      "Frozen Foods              856\n",
      "Dairy                     682\n",
      "Canned                    649\n",
      "Baking Goods              648\n",
      "Health and Hygiene        520\n",
      "Soft Drinks               445\n",
      "Meat                      425\n",
      "Breads                    251\n",
      "Hard Drinks               214\n",
      "Others                    169\n",
      "Starchy Foods             148\n",
      "Breakfast                 110\n",
      "Seafood                    64\n",
      "Name: Item_Type, dtype: int64\n",
      "\n",
      "Freqfuency of Categories for variable Outlet_Size\n",
      "Medium    2793\n",
      "Small     2388\n",
      "High       932\n",
      "Name: Outlet_Size, dtype: int64\n",
      "\n",
      "Freqfuency of Categories for variable Outlet_Location_Type\n",
      "Tier 2    2793\n",
      "Tier1     2388\n",
      "Tier 3     932\n",
      "?          120\n",
      "  --       109\n",
      "  -         67\n",
      "na          48\n",
      "NAN         16\n",
      "Name: Outlet_Location_Type, dtype: int64\n",
      "\n",
      "Freqfuency of Categories for variable Outlet_Type\n",
      "Supermarket Type1    5577\n",
      "Grocery Store        1083\n",
      "Supermarket Type3     935\n",
      "Supermarket Type2     928\n",
      "Name: Outlet_Type, dtype: int64\n"
     ]
    }
   ],
   "source": [
    "#Check the frequencies of categories [column - column value count]\n",
    "for col in categorical_cols:\n",
    "    print(f'\\nFreqfuency of Categories for variable {col}')\n",
    "    print(data[col].value_counts())"
   ]
  },
  {
   "cell_type": "code",
   "execution_count": 14,
   "id": "209da4c8",
   "metadata": {
    "colab": {
     "base_uri": "https://localhost:8080/"
    },
    "id": "209da4c8",
    "outputId": "3d17a6bf-6373-4343-eeea-3e0af21607b8"
   },
   "outputs": [
    {
     "name": "stdout",
     "output_type": "stream",
     "text": [
      "Item_Identifier                 0\n",
      "Item_Weight                   749\n",
      "Item_Fat_Content                0\n",
      "Item_Visibility                 0\n",
      "Item_Type                       0\n",
      "Item_MRP                        0\n",
      "Outlet_Identifier               0\n",
      "Outlet_Establishment_Year       0\n",
      "Outlet_Size                  2410\n",
      "Outlet_Location_Type         2410\n",
      "Outlet_Type                     0\n",
      "Item_Outlet_Sales               0\n",
      "Profit                          0\n",
      "dtype: int64\n"
     ]
    }
   ],
   "source": [
    "#Replace the following unintelligible categories with np.nan\n",
    "data.replace({\"?\": np.nan, \"  --\": np.nan, \"na\": np.nan, \"NAN\": np.nan, \"  -\": np.nan}, inplace = True)\n",
    "print(data.isna().sum())"
   ]
  },
  {
   "cell_type": "markdown",
   "id": "2fb67db3",
   "metadata": {
    "id": "2fb67db3"
   },
   "source": [
    "**Updated Observations:**\n",
    "1. Missing Values:\n",
    "    1. There are 749 missing values in Item_Weight column\n",
    "    2. There are 2410 missing values in Outlet_Size column\n",
    "    3. There are 2410 missing values in Outlet_Location_Type column\n",
    "\n",
    "2. Low Fat, low fat and LF are all Low Fat; reg and Regular are both Regular.\n",
    "3. Maybe combine some of the categories in Outlet_Type -> check the mean sales by type of outlet.\n",
    "4. Stores with Outlet_Identifier OUT010 and OUT019 have significantly smaller number of sales."
   ]
  },
  {
   "cell_type": "markdown",
   "id": "922e7fa9",
   "metadata": {
    "id": "922e7fa9"
   },
   "source": [
    "#### **Observations on Missing Values**\n",
    "1. The min value of Item_Visibility is 0, but this can not be as every item must have some visibility.\n",
    "2. Low Fat, low fat and LF are all Low Fat; reg and Regular are both Regular.\n",
    "3. Null values applicable for cleaning -  Item_Weight, Outlet_Size, Outlet_Location_Type\n",
    "\n",
    "#### **Observations on Data Analysis to be done**\n",
    "1. There are 10 stores.\n",
    "2. Since the Item_MRP is bigger than the number of products, this could mean that in different stores, the MRP could be different.\n",
    "3. There are only 16 Item_Type.\n",
    "4. Stores with Outlet_Identifier OUT010 and OUT019 have significantly smaller number of sales.**??**\n",
    "\n",
    "#### **Observations on Feature engineering to be done**\n",
    "1. There are 1559 products - This is too many to be useful, we need to see how we can categorise them into a smaller number of groups\n",
    "3. Maybe combine some of the categories in Outlet_Type -> check the mean sales by type of outlet."
   ]
  },
  {
   "cell_type": "markdown",
   "id": "a32652f9",
   "metadata": {
    "id": "a32652f9"
   },
   "source": [
    "### **Data Cleaning and Imputing Missing Values**\n",
    "#### **Item_Weight**"
   ]
  },
  {
   "cell_type": "code",
   "execution_count": 15,
   "id": "c0ab1458",
   "metadata": {
    "colab": {
     "base_uri": "https://localhost:8080/"
    },
    "id": "c0ab1458",
    "outputId": "292420ef-99d2-4db1-deae-c456a243a084"
   },
   "outputs": [
    {
     "name": "stdout",
     "output_type": "stream",
     "text": [
      "Missing values: 749\n",
      "Missing values after immputation 0\n"
     ]
    }
   ],
   "source": [
    "print(f'Missing values: {sum(data[\"Item_Weight\"].isnull())}')\n",
    "\n",
    "data['Item_Weight'].fillna(value=data['Item_Weight'].mean(), inplace=True)\n",
    "print(f'Missing values after immputation {sum(data[\"Item_Weight\"].isnull())}')"
   ]
  },
  {
   "cell_type": "markdown",
   "id": "3a32a1e0",
   "metadata": {
    "id": "3a32a1e0"
   },
   "source": [
    "#### **Outlet_Size**"
   ]
  },
  {
   "cell_type": "code",
   "execution_count": 16,
   "id": "2de3e32b",
   "metadata": {
    "colab": {
     "base_uri": "https://localhost:8080/"
    },
    "id": "2de3e32b",
    "outputId": "c04a41f3-082b-4670-c0e2-09190a89fcf8"
   },
   "outputs": [
    {
     "name": "stdout",
     "output_type": "stream",
     "text": [
      "Missing Outlet Size values 2410\n",
      "Missing Outlet Size values after immputation 0\n"
     ]
    }
   ],
   "source": [
    "print(f'Missing Outlet Size values {sum(data[\"Outlet_Size\"].isnull())}')\n",
    "\n",
    "data['Outlet_Size'].fillna(method=\"ffill\",inplace = True)\n",
    "print(f'Missing Outlet Size values after immputation {sum(data[\"Outlet_Size\"].isnull())}')"
   ]
  },
  {
   "cell_type": "markdown",
   "id": "5fe2af77",
   "metadata": {
    "id": "5fe2af77"
   },
   "source": [
    "#### **Outlet_Location_Type**"
   ]
  },
  {
   "cell_type": "code",
   "execution_count": 17,
   "id": "0bc790c4",
   "metadata": {
    "id": "0bc790c4",
    "outputId": "7efcdade-924c-4ed4-8f65-14f9c15d2b93"
   },
   "outputs": [
    {
     "name": "stdout",
     "output_type": "stream",
     "text": [
      "Missing Outlet Location Types values 2410\n",
      "Missing Outlet Location Types values after immputation 0\n"
     ]
    }
   ],
   "source": [
    "print(f'Missing Outlet Location Types values {sum(data[\"Outlet_Location_Type\"].isnull())}')\n",
    "\n",
    "data['Outlet_Location_Type'].fillna(method=\"ffill\",inplace = True)\n",
    "print(f'Missing Outlet Location Types values after immputation {sum(data[\"Outlet_Location_Type\"].isnull())}')"
   ]
  },
  {
   "cell_type": "code",
   "execution_count": 18,
   "id": "o2z-2Jumde-j",
   "metadata": {
    "colab": {
     "base_uri": "https://localhost:8080/"
    },
    "id": "o2z-2Jumde-j",
    "outputId": "eb50b227-befb-4a77-a731-02fda395c187"
   },
   "outputs": [
    {
     "data": {
      "text/plain": [
       "Item_Identifier              0\n",
       "Item_Weight                  0\n",
       "Item_Fat_Content             0\n",
       "Item_Visibility              0\n",
       "Item_Type                    0\n",
       "Item_MRP                     0\n",
       "Outlet_Identifier            0\n",
       "Outlet_Establishment_Year    0\n",
       "Outlet_Size                  0\n",
       "Outlet_Location_Type         0\n",
       "Outlet_Type                  0\n",
       "Item_Outlet_Sales            0\n",
       "Profit                       0\n",
       "dtype: int64"
      ]
     },
     "execution_count": 18,
     "metadata": {},
     "output_type": "execute_result"
    }
   ],
   "source": [
    "# check for null values\n",
    "data.isnull().sum()"
   ]
  },
  {
   "cell_type": "markdown",
   "id": "4737750f",
   "metadata": {
    "id": "4737750f"
   },
   "source": [
    "#### **Combine Low Fat, low fat and LF to Low Fat and reg and Regular to Regular**"
   ]
  },
  {
   "cell_type": "code",
   "execution_count": 19,
   "id": "52352f4e",
   "metadata": {
    "colab": {
     "base_uri": "https://localhost:8080/"
    },
    "id": "52352f4e",
    "outputId": "d3fcfdb1-89a7-4757-fee5-c192980e8b79"
   },
   "outputs": [
    {
     "name": "stdout",
     "output_type": "stream",
     "text": [
      "Low Fat    5089\n",
      "Regular    2889\n",
      "LF          316\n",
      "reg         117\n",
      "low fat     112\n",
      "Name: Item_Fat_Content, dtype: int64\n"
     ]
    }
   ],
   "source": [
    "#Existing Fat Content Categories\n",
    "print(data['Item_Fat_Content'].value_counts())"
   ]
  },
  {
   "cell_type": "markdown",
   "id": "b349682e",
   "metadata": {
    "id": "b349682e"
   },
   "source": [
    "#### **Modified Item Fat and Regular**"
   ]
  },
  {
   "cell_type": "code",
   "execution_count": 20,
   "id": "1686fd3c",
   "metadata": {
    "colab": {
     "base_uri": "https://localhost:8080/"
    },
    "id": "1686fd3c",
    "outputId": "721e6abb-a8ad-41e5-c0b2-e40c6fee36b5"
   },
   "outputs": [
    {
     "name": "stdout",
     "output_type": "stream",
     "text": [
      "Low Fat    5517\n",
      "Regular    3006\n",
      "Name: Item_Fat_Content, dtype: int64\n"
     ]
    }
   ],
   "source": [
    "data['Item_Fat_Content'] = data['Item_Fat_Content'].replace({'LF': 'Low Fat', 'low fat': 'Low Fat', 'reg': 'Regular'})\n",
    "print(data['Item_Fat_Content'].value_counts())"
   ]
  },
  {
   "cell_type": "markdown",
   "id": "jkEJnGelRcv4",
   "metadata": {
    "id": "jkEJnGelRcv4"
   },
   "source": [
    "#### **Modifying Item_Visibility**\n"
   ]
  },
  {
   "cell_type": "code",
   "execution_count": 21,
   "id": "BjZ1PcZqR2bY",
   "metadata": {
    "colab": {
     "base_uri": "https://localhost:8080/"
    },
    "id": "BjZ1PcZqR2bY",
    "outputId": "ace64983-9195-4b66-c155-d4878a5f9677"
   },
   "outputs": [
    {
     "name": "stdout",
     "output_type": "stream",
     "text": [
      "Number of 0 values: 526\n",
      "Number of 0 values after modification: 0\n"
     ]
    }
   ],
   "source": [
    "visibility_avg = data.pivot_table(values='Item_Visibility', index='Item_Identifier')\n",
    "\n",
    "#Impute 0 values with mean visibility of that product:\n",
    "missing_values = (data['Item_Visibility'] == 0)\n",
    "\n",
    "print ('Number of 0 values: %d'%sum(missing_values))\n",
    "data.loc[missing_values,'Item_Visibility'] = data.loc[missing_values,'Item_Identifier'].apply(lambda x: visibility_avg.at[x, 'Item_Visibility'])\n",
    "print ('Number of 0 values after modification: %d'%sum(data['Item_Visibility'] == 0))"
   ]
  },
  {
   "cell_type": "code",
   "execution_count": 22,
   "id": "26f5718b",
   "metadata": {
    "id": "26f5718b"
   },
   "outputs": [],
   "source": [
    "data.to_csv('updated_BigMartSales.csv')\n",
    "\n",
    "# data.to_csv('updated_BigMartSales.csv')\n",
    "# from google.colab import files\n",
    "# files.download(\"updated_BigMartSales.csv\")"
   ]
  },
  {
   "cell_type": "markdown",
   "id": "83a5c4be",
   "metadata": {
    "id": "83a5c4be"
   },
   "source": [
    "## **Visualization**"
   ]
  },
  {
   "cell_type": "markdown",
   "id": "f9668222",
   "metadata": {
    "id": "f9668222"
   },
   "source": [
    "### **Univariate**"
   ]
  },
  {
   "cell_type": "markdown",
   "id": "d486538c",
   "metadata": {
    "id": "d486538c"
   },
   "source": [
    "#### **1. How many Identifers do we have per Outlet?**"
   ]
  },
  {
   "cell_type": "code",
   "execution_count": 23,
   "id": "b67b71a4",
   "metadata": {
    "id": "b67b71a4",
    "outputId": "66d34618-bf26-4214-cf06-553f2c2fd300"
   },
   "outputs": [
    {
     "data": {
      "image/png": "[encoded data removed]",
      "text/plain": [
       "<Figure size 1800x504 with 1 Axes>"
      ]
     },
     "metadata": {
      "needs_background": "light"
     },
     "output_type": "display_data"
    }
   ],
   "source": [
    "plt.figure(figsize=(25,7))\n",
    "y = sb.countplot('Outlet_Identifier',data=data) #,palette='spring'\n",
    "y.set_yticks(np.arange(0,1500,250))\n",
    "plt.xlabel('Outlet Identifier')\n",
    "plt.ylabel('Count')\n",
    "plt.title('Outlet Identifers Count Plot.png')\n",
    "plt.savefig('Outlet Identifers Count Plot.png')\n",
    "plt.show()"
   ]
  },
  {
   "cell_type": "markdown",
   "id": "36331b1c",
   "metadata": {
    "id": "36331b1c"
   },
   "source": [
    "#### **2. How many Outlets we have based on capacity**"
   ]
  },
  {
   "cell_type": "code",
   "execution_count": 24,
   "id": "8f38a6b0",
   "metadata": {
    "id": "8f38a6b0",
    "outputId": "8601439c-6689-47a5-9a43-4276b6df6f95"
   },
   "outputs": [
    {
     "data": {
      "image/png": "[encoded data removed]",
      "text/plain": [
       "<Figure size 576x360 with 1 Axes>"
      ]
     },
     "metadata": {
      "needs_background": "light"
     },
     "output_type": "display_data"
    }
   ],
   "source": [
    "plt.figure(figsize=(8,5))\n",
    "sb.countplot('Outlet_Size',data=data)\n",
    "plt.xlabel('Outlet_Size')\n",
    "plt.ylabel('Count')\n",
    "plt.title('Outlet_Size Capacity')\n",
    "plt.savefig('Outlet_Size.png')\n",
    "plt.show()"
   ]
  },
  {
   "cell_type": "markdown",
   "id": "5b251388",
   "metadata": {
    "id": "5b251388"
   },
   "source": [
    "#### **3. What is the most frequent Item type being sold?**"
   ]
  },
  {
   "cell_type": "code",
   "execution_count": 25,
   "id": "dbfc66fd",
   "metadata": {
    "id": "dbfc66fd",
    "outputId": "22be12e9-ef30-4ccc-9fdf-59aceda4b6d2"
   },
   "outputs": [
    {
     "data": {
      "image/png": "[encoded data removed]",
      "text/plain": [
       "<Figure size 1800x504 with 1 Axes>"
      ]
     },
     "metadata": {
      "needs_background": "light"
     },
     "output_type": "display_data"
    }
   ],
   "source": [
    "plt.figure(figsize=(25,7))\n",
    "sb.countplot('Item_Type',data=data)\n",
    "plt.xlabel('Item_Type')\n",
    "plt.ylabel('Count')\n",
    "plt.title('Item Type Count')\n",
    "plt.savefig('Item_Type.png')\n",
    "plt.show()"
   ]
  },
  {
   "cell_type": "markdown",
   "id": "c22e27fa",
   "metadata": {
    "id": "c22e27fa"
   },
   "source": [
    "#### **4. What is the distribution of numerical data?**"
   ]
  },
  {
   "cell_type": "code",
   "execution_count": 26,
   "id": "894a3b38",
   "metadata": {
    "id": "894a3b38",
    "outputId": "6bbbdc2d-ece4-41bf-e3dd-866a3e965045"
   },
   "outputs": [
    {
     "data": {
      "image/png": "[encoded data removed]",
      "text/plain": [
       "<Figure size 864x720 with 6 Axes>"
      ]
     },
     "metadata": {
      "needs_background": "light"
     },
     "output_type": "display_data"
    }
   ],
   "source": [
    "data.hist(figsize=(12,10))\n",
    "plt.savefig('HistOverall.png')\n",
    "plt.show()"
   ]
  },
  {
   "cell_type": "markdown",
   "id": "i4IrVyzOAOiz",
   "metadata": {
    "id": "i4IrVyzOAOiz"
   },
   "source": [
    "### **Bivariate**\n",
    "#### **1.How has the Sales varied over the years?**"
   ]
  },
  {
   "cell_type": "code",
   "execution_count": 27,
   "id": "0SiQKiJgnIW0",
   "metadata": {
    "colab": {
     "base_uri": "https://localhost:8080/",
     "height": 335
    },
    "id": "0SiQKiJgnIW0",
    "outputId": "2ab96921-e76a-49b8-ba61-c56e4292cdae"
   },
   "outputs": [
    {
     "data": {
      "image/png": "[encoded data removed]",
      "text/plain": [
       "<Figure size 720x360 with 1 Axes>"
      ]
     },
     "metadata": {
      "needs_background": "light"
     },
     "output_type": "display_data"
    }
   ],
   "source": [
    "plt.figure(figsize=(10,5))\n",
    "sb.boxplot('Outlet_Establishment_Year','Item_Outlet_Sales',data=data,palette=\"Paired\")\n",
    "plt.title('Outlet_Establishment_Year VS Item_Outlet_Sales')\n",
    "plt.savefig('Outlet_Establishment_YearVSItem_Outlet_Sales.png')\n",
    "plt.show()"
   ]
  },
  {
   "cell_type": "markdown",
   "id": "6ZPRujk_csoI",
   "metadata": {
    "id": "6ZPRujk_csoI"
   },
   "source": [
    "#### **2. What is the impact of item visibility on item outlet sale?**"
   ]
  },
  {
   "cell_type": "code",
   "execution_count": 28,
   "id": "XX0ti8gscvFt",
   "metadata": {
    "id": "XX0ti8gscvFt",
    "outputId": "cda4a8af-f493-4efe-85f1-4c898a6d9f86"
   },
   "outputs": [
    {
     "data": {
      "image/png": "[encoded data removed]",
      "text/plain": [
       "<Figure size 432x288 with 1 Axes>"
      ]
     },
     "metadata": {
      "needs_background": "light"
     },
     "output_type": "display_data"
    }
   ],
   "source": [
    "plt.scatter(data.Item_Visibility , data.Item_Outlet_Sales)\n",
    "plt.xlabel('Item Visibility')\n",
    "plt.ylabel('Item Outlet Sales')\n",
    "plt.title('Item Visibilty vs Item Outlet Sales')\n",
    "plt.savefig('Item_VisibiltyVSItem_Outlet Sales.png')\n",
    "plt.show()"
   ]
  },
  {
   "cell_type": "markdown",
   "id": "9c11e604",
   "metadata": {
    "id": "9c11e604"
   },
   "source": [
    "Less visible items are sold more compared to more visibility items as outlet contains daily used items which contradicts the null hypothesis.\n",
    "Visibility has no impact on Item Outlet Sales"
   ]
  },
  {
   "cell_type": "markdown",
   "id": "846f5e23",
   "metadata": {
    "id": "846f5e23"
   },
   "source": [
    "#### **3. What are the Outlet sales per Item category?**"
   ]
  },
  {
   "cell_type": "code",
   "execution_count": 29,
   "id": "1aab80da",
   "metadata": {
    "id": "1aab80da",
    "outputId": "9935783e-18f4-42da-c4e7-a1aad9cfefca"
   },
   "outputs": [
    {
     "data": {
      "image/png": "[encoded data removed]",
      "text/plain": [
       "<Figure size 432x288 with 1 Axes>"
      ]
     },
     "metadata": {},
     "output_type": "display_data"
    }
   ],
   "source": [
    "df3=data.groupby(by='Item_Type').sum()\n",
    "df2=df3['Item_Outlet_Sales'].sort_values(ascending=False)\n",
    "label = ['Fruits and Vegetables', 'Snack Foods','Household ','Frozen Foods','Dairy ', 'Canned','Baking Goods','Health and Hygiene','Meat', 'Soft Drinks','Breads','Hard Drinks','Starchy Foods', 'Others','Breakfast','Seafood']\n",
    "plt.rcParams['font.size'] = 10\n",
    "plt.pie(df2, autopct = '%0.1f%%', radius = 2, labels = label,\n",
    "      explode = [0.2,0.2,0,0,0,0,0,0,0,0,0,0,0,0,0.0,0.0],colors=['#ff6666', '#ffcc99', '#99ff99', '#66b3ff'])\n",
    "plt.savefig('Outlet_Sales per Item_Type.png', bbox_inches='tight')\n",
    "plt.show()"
   ]
  },
  {
   "cell_type": "markdown",
   "id": "fe4ec983",
   "metadata": {
    "id": "fe4ec983"
   },
   "source": [
    "#### **4. How has the Item Type affected overall Profit?**"
   ]
  },
  {
   "cell_type": "code",
   "execution_count": 30,
   "id": "6bd5bd51",
   "metadata": {
    "id": "6bd5bd51",
    "outputId": "433f976f-e7dc-480d-910a-623900a343a1"
   },
   "outputs": [
    {
     "data": {
      "image/png": "[encoded data removed]",
      "text/plain": [
       "<Figure size 720x360 with 1 Axes>"
      ]
     },
     "metadata": {
      "needs_background": "light"
     },
     "output_type": "display_data"
    }
   ],
   "source": [
    "data[\"Total_Profit\"] = (data['Item_Outlet_Sales']/data['Item_MRP']) * data['Profit']\n",
    "type6=data.groupby(by='Item_Type')['Total_Profit'].sum()\n",
    "plt.figure(figsize = (10,5))\n",
    "lab = ['Fruits and Vegetables', 'Snack Foods','Household ','Frozen Foods','Dairy ', 'Canned','Baking Goods','Health and Hygiene','Meat', 'Soft Drinks','Breads','Hard Drinks','Starchy Foods', 'Others','Breakfast','Seafood']\n",
    "lab.sort()\n",
    "chart = sb.barplot(x = lab, y = type6)\n",
    "chart.set_xticklabels(chart.get_xticklabels(), rotation=45, horizontalalignment='right', fontweight='light',fontsize='x-large')\n",
    "plt.xlabel('Total_Profit')\n",
    "plt.ylabel('Item_Outlet_Sales')\n",
    "plt.title('Profit vs Item_Type')\n",
    "plt.savefig('Profit vs Item_Type.png', bbox_inches='tight')\n",
    "plt.show()"
   ]
  },
  {
   "cell_type": "markdown",
   "id": "8b6a1158",
   "metadata": {
    "id": "8b6a1158"
   },
   "source": [
    "#### **5. What is the total Profit over different Outlet locations?**"
   ]
  },
  {
   "cell_type": "code",
   "execution_count": 31,
   "id": "e095d876",
   "metadata": {
    "id": "e095d876",
    "outputId": "974f6366-bb3d-47a2-eab9-dc5b82ab3840"
   },
   "outputs": [
    {
     "data": {
      "image/png": "[encoded data removed]",
      "text/plain": [
       "<Figure size 720x360 with 1 Axes>"
      ]
     },
     "metadata": {
      "needs_background": "light"
     },
     "output_type": "display_data"
    }
   ],
   "source": [
    "plt.figure(figsize=(10,5))\n",
    "data[\"Total_Profit\"] = (data['Item_Outlet_Sales']/data['Item_MRP']) * data['Profit']\n",
    "sb.boxplot('Outlet_Location_Type','Total_Profit',data=data,palette=\"Paired\")\n",
    "plt.title('Outlet_Location_type VS Total_Profit')\n",
    "plt.savefig('Outlet_Location_typeVSTotal_Profit.png')\n",
    "plt.show()"
   ]
  },
  {
   "cell_type": "markdown",
   "id": "298faa3f",
   "metadata": {
    "id": "298faa3f"
   },
   "source": [
    "#### **6. How are the sales per type of outlet?**"
   ]
  },
  {
   "cell_type": "code",
   "execution_count": 32,
   "id": "2912b4d7",
   "metadata": {
    "id": "2912b4d7",
    "outputId": "d790b3cb-52ac-4bf1-ca0e-39b06eae0330"
   },
   "outputs": [
    {
     "data": {
      "image/png": "[encoded data removed]",
      "text/plain": [
       "<Figure size 720x360 with 1 Axes>"
      ]
     },
     "metadata": {
      "needs_background": "light"
     },
     "output_type": "display_data"
    }
   ],
   "source": [
    "plt.figure(figsize=(10,5))\n",
    "sb.boxplot('Outlet_Type','Item_Outlet_Sales',data=data)\n",
    "plt.title('Outlet_Type VS Item_Outlet_Sales')\n",
    "plt.savefig('Outlet_TypeVSItem_Outlet_Sales.png')\n",
    "plt.show()"
   ]
  }
 ],
 "metadata": {
  "colab": {
   "collapsed_sections": [],
   "name": "Team 5 NPV - BigMart Sales.ipynb",
   "provenance": []
  },
  "kernelspec": {
   "display_name": "Python 3",
   "language": "python",
   "name": "python3"
  },
  "language_info": {
   "codemirror_mode": {
    "name": "ipython",
    "version": 3
   },
   "file_extension": ".py",
   "mimetype": "text/x-python",
   "name": "python",
   "nbconvert_exporter": "python",
   "pygments_lexer": "ipython3",
   "version": "3.8.8"
  }
 },
 "nbformat": 4,
 "nbformat_minor": 5
}
